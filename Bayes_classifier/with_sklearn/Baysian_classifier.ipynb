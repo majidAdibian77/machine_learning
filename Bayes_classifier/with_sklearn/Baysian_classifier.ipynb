{
 "cells": [
  {
   "cell_type": "code",
   "execution_count": null,
   "metadata": {},
   "outputs": [],
   "source": [
    "import sys\n",
    "!{sys.executable} -m pip3 install pandas\n",
    "!{sys.executable} -m pip3 install numpy"
   ]
  },
  {
   "cell_type": "code",
   "execution_count": 8,
   "metadata": {},
   "outputs": [],
   "source": [
    "import pandas\n",
    "import math\n",
    "import numpy as np"
   ]
  },
  {
   "cell_type": "markdown",
   "metadata": {},
   "source": [
    "###### Read and show data"
   ]
  },
  {
   "cell_type": "code",
   "execution_count": 9,
   "metadata": {},
   "outputs": [
    {
     "name": "stdout",
     "output_type": "stream",
     "text": [
      "(1025, 14)\n"
     ]
    },
    {
     "data": {
      "text/html": [
       "<div>\n",
       "<style scoped>\n",
       "    .dataframe tbody tr th:only-of-type {\n",
       "        vertical-align: middle;\n",
       "    }\n",
       "\n",
       "    .dataframe tbody tr th {\n",
       "        vertical-align: top;\n",
       "    }\n",
       "\n",
       "    .dataframe thead th {\n",
       "        text-align: right;\n",
       "    }\n",
       "</style>\n",
       "<table border=\"1\" class=\"dataframe\">\n",
       "  <thead>\n",
       "    <tr style=\"text-align: right;\">\n",
       "      <th></th>\n",
       "      <th>age</th>\n",
       "      <th>sex</th>\n",
       "      <th>cp</th>\n",
       "      <th>trestbps</th>\n",
       "      <th>chol</th>\n",
       "      <th>fbs</th>\n",
       "      <th>restecg</th>\n",
       "      <th>thalach</th>\n",
       "      <th>exang</th>\n",
       "      <th>oldpeak</th>\n",
       "      <th>slope</th>\n",
       "      <th>ca</th>\n",
       "      <th>thal</th>\n",
       "      <th>target</th>\n",
       "    </tr>\n",
       "  </thead>\n",
       "  <tbody>\n",
       "    <tr>\n",
       "      <th>0</th>\n",
       "      <td>52</td>\n",
       "      <td>1</td>\n",
       "      <td>0</td>\n",
       "      <td>125</td>\n",
       "      <td>212</td>\n",
       "      <td>0</td>\n",
       "      <td>1</td>\n",
       "      <td>168</td>\n",
       "      <td>0</td>\n",
       "      <td>1.0</td>\n",
       "      <td>2</td>\n",
       "      <td>2</td>\n",
       "      <td>3</td>\n",
       "      <td>0</td>\n",
       "    </tr>\n",
       "    <tr>\n",
       "      <th>1</th>\n",
       "      <td>53</td>\n",
       "      <td>1</td>\n",
       "      <td>0</td>\n",
       "      <td>140</td>\n",
       "      <td>203</td>\n",
       "      <td>1</td>\n",
       "      <td>0</td>\n",
       "      <td>155</td>\n",
       "      <td>1</td>\n",
       "      <td>3.1</td>\n",
       "      <td>0</td>\n",
       "      <td>0</td>\n",
       "      <td>3</td>\n",
       "      <td>0</td>\n",
       "    </tr>\n",
       "    <tr>\n",
       "      <th>2</th>\n",
       "      <td>70</td>\n",
       "      <td>1</td>\n",
       "      <td>0</td>\n",
       "      <td>145</td>\n",
       "      <td>174</td>\n",
       "      <td>0</td>\n",
       "      <td>1</td>\n",
       "      <td>125</td>\n",
       "      <td>1</td>\n",
       "      <td>2.6</td>\n",
       "      <td>0</td>\n",
       "      <td>0</td>\n",
       "      <td>3</td>\n",
       "      <td>0</td>\n",
       "    </tr>\n",
       "    <tr>\n",
       "      <th>3</th>\n",
       "      <td>61</td>\n",
       "      <td>1</td>\n",
       "      <td>0</td>\n",
       "      <td>148</td>\n",
       "      <td>203</td>\n",
       "      <td>0</td>\n",
       "      <td>1</td>\n",
       "      <td>161</td>\n",
       "      <td>0</td>\n",
       "      <td>0.0</td>\n",
       "      <td>2</td>\n",
       "      <td>1</td>\n",
       "      <td>3</td>\n",
       "      <td>0</td>\n",
       "    </tr>\n",
       "    <tr>\n",
       "      <th>4</th>\n",
       "      <td>62</td>\n",
       "      <td>0</td>\n",
       "      <td>0</td>\n",
       "      <td>138</td>\n",
       "      <td>294</td>\n",
       "      <td>1</td>\n",
       "      <td>1</td>\n",
       "      <td>106</td>\n",
       "      <td>0</td>\n",
       "      <td>1.9</td>\n",
       "      <td>1</td>\n",
       "      <td>3</td>\n",
       "      <td>2</td>\n",
       "      <td>0</td>\n",
       "    </tr>\n",
       "  </tbody>\n",
       "</table>\n",
       "</div>"
      ],
      "text/plain": [
       "   age  sex  cp  trestbps  chol  fbs  restecg  thalach  exang  oldpeak  slope  \\\n",
       "0   52    1   0       125   212    0        1      168      0      1.0      2   \n",
       "1   53    1   0       140   203    1        0      155      1      3.1      0   \n",
       "2   70    1   0       145   174    0        1      125      1      2.6      0   \n",
       "3   61    1   0       148   203    0        1      161      0      0.0      2   \n",
       "4   62    0   0       138   294    1        1      106      0      1.9      1   \n",
       "\n",
       "   ca  thal  target  \n",
       "0   2     3       0  \n",
       "1   0     3       0  \n",
       "2   0     3       0  \n",
       "3   1     3       0  \n",
       "4   3     2       0  "
      ]
     },
     "execution_count": 9,
     "metadata": {},
     "output_type": "execute_result"
    }
   ],
   "source": [
    "data = pandas.read_csv('heart.csv')\n",
    "print(data.shape)\n",
    "data.head()"
   ]
  },
  {
   "cell_type": "markdown",
   "metadata": {},
   "source": [
    "###### Spliting data to train and test,  define discrete and continus dimentions"
   ]
  },
  {
   "cell_type": "code",
   "execution_count": 10,
   "metadata": {},
   "outputs": [],
   "source": [
    "data = data.sample(frac=1).reset_index(drop=True)  # shuffeling data\n",
    "train , test = data[:int(len(data)*0.8)], data[int(len(data)*0.8):]  # spliting data\n",
    "discrete_dimensions = ['slope', 'ca', 'thal', 'sex', 'cp', 'fbs', 'restecg', 'exang']\n",
    "continuous_dimensions = [col for col in data.columns if col not in discrete_dimensions and col != 'target']"
   ]
  },
  {
   "cell_type": "markdown",
   "metadata": {},
   "source": [
    "#### Part A: Discrete dimensions are independent and continuous dimensions have Gaussian distribution"
   ]
  },
  {
   "cell_type": "code",
   "execution_count": 11,
   "metadata": {},
   "outputs": [],
   "source": [
    "def get_gaussian_params(data, features):\n",
    "    params = {}  # gaussian parameters for any class\n",
    "    classes_data = data.groupby('target')\n",
    "    for name, class_data in classes_data:\n",
    "        params[name] = {'cov': class_data[features].cov(), 'mean': class_data[features].mean()}\n",
    "    return params\n",
    "\n",
    "def get_bayes_params(data, features):\n",
    "    params = {}  # bayes parameters for any class: count of any value in any feature\n",
    "    classes_data = data.groupby('target')\n",
    "    for name, class_data in classes_data:\n",
    "        params[name] = {}\n",
    "        for col in features:\n",
    "            params[name][col] = dict(class_data[col].value_counts())\n",
    "        params[name]['class_size'] = class_data.shape[0]\n",
    "    params['data_size'] = data.shape[0]\n",
    "    return params\n",
    "\n",
    "def calculate_gaussian_prob(data, params):\n",
    "    \"\"\" This function gets a data and prometers of normal distribution and calculates probability \"\"\"\n",
    "    cov = params['cov']\n",
    "    mean = params['mean']\n",
    "    cov_det = np.linalg.det(cov)\n",
    "    first_term = 1/((2*math.pi)*(cov_det**0.5))  ## first term of normal distribution formula\n",
    "    data_diff_mean = data - mean\n",
    "    cov_inv = np.linalg.inv(cov)\n",
    "    second_term = np.exp(-0.5*data_diff_mean@cov_inv@data_diff_mean.T)  ## second term of normal distribution formula\n",
    "    prob = first_term*second_term\n",
    "    return prob \n",
    "\n",
    "def calculate_nive_prob(data, params):\n",
    "    \"\"\" This function gets some value in adiscrete features and returns probability of that values in this features \"\"\"\n",
    "    prob = 1\n",
    "    feature_number = len(data.keys())\n",
    "    for col in data.keys():\n",
    "        if data[col] in params[col]:\n",
    "            prob *= ((params[col][data[col]]+1)/ (params['class_size']+feature_number))\n",
    "        else:\n",
    "            prob *= (1/ (params['class_size']+feature_number))\n",
    "    return prob\n",
    "\n",
    "def calculate_posterior_prob(data, class_name, gaussian_params, bayes_params):\n",
    "    \"\"\" This function gets a data and class and returns probability of that class given that data: P(y|X) \"\"\"\n",
    "    continuous_part = data[continuous_dimensions]\n",
    "    discrete_part = data[discrete_dimensions] \n",
    "    discrete_part_prob = calculate_nive_prob(discrete_part, bayes_params[class_name])\n",
    "    continuous_part_prob = calculate_gaussian_prob(continuous_part, gaussian_params[class_name])\n",
    "    prob_data_in_class =  discrete_part_prob*continuous_part_prob  # P(X|y)\n",
    "    prob_class = bayes_params[class_name]['class_size']/bayes_params['data_size']\n",
    "    return  prob_data_in_class*prob_class"
   ]
  },
  {
   "cell_type": "markdown",
   "metadata": {},
   "source": [
    "##### Model evaluation on test and training data"
   ]
  },
  {
   "cell_type": "code",
   "execution_count": 12,
   "metadata": {},
   "outputs": [
    {
     "name": "stdout",
     "output_type": "stream",
     "text": [
      "### train ###\n",
      "confusion matrix: {'FP': 65, 'FN': 50, 'TP': 366, 'TN': 339}\n",
      "\t precision: 0.8491879350348028\n",
      "\t recall: 0.8798076923076923\n",
      "### test ###\n",
      "confusion matrix: {'FP': 15, 'FN': 12, 'TP': 98, 'TN': 80}\n",
      "\t precision: 0.8672566371681416\n",
      "\t recall: 0.8909090909090909\n"
     ]
    }
   ],
   "source": [
    "def evaluate_model(data):\n",
    "    \"\"\" This function gest train or test data and predicts class of them and then evaluates results \"\"\"\n",
    "    class_labels = data['target'].unique()\n",
    "    confusion_matrix = {'FP':0, 'FN':0, 'TP':0, 'TN':0}\n",
    "    i = 0\n",
    "    for index, data_sample in data.iterrows():\n",
    "        class_probes = {}\n",
    "        for label in class_labels:\n",
    "            prob = calculate_posterior_prob(data_sample, label, gaussian_params, bayes_params)\n",
    "            class_probes[label] = prob\n",
    "        predicted_label = max(class_probes, key=lambda x:class_probes[x])\n",
    "        if data_sample['target'] == 1:\n",
    "            if predicted_label == 1:\n",
    "                confusion_matrix['TP'] += 1\n",
    "            else:\n",
    "                confusion_matrix['FN'] += 1\n",
    "        else:\n",
    "            if predicted_label == 1:\n",
    "                confusion_matrix['FP'] += 1\n",
    "            else:\n",
    "                confusion_matrix['TN'] += 1\n",
    "    print(\"confusion matrix: \" + str(confusion_matrix))\n",
    "    print('\\t precision: ' + str(confusion_matrix['TP']/(confusion_matrix['TP']+confusion_matrix['FP'])))\n",
    "    print('\\t recall: ' + str(confusion_matrix['TP']/(confusion_matrix['TP']+confusion_matrix['FN'])))\n",
    "\n",
    "gaussian_params = get_gaussian_params(train, continuous_dimensions)\n",
    "bayes_params = get_bayes_params(train, discrete_dimensions)\n",
    "\n",
    "print(\"### train ###\")\n",
    "evaluate_model(train)\n",
    "print(\"### test ###\")\n",
    "evaluate_model(test)"
   ]
  },
  {
   "cell_type": "markdown",
   "metadata": {},
   "source": [
    "#### Part B: All dimensions are independent"
   ]
  },
  {
   "cell_type": "code",
   "execution_count": 13,
   "metadata": {},
   "outputs": [],
   "source": [
    "def calculate_posterior_prob2(data, class_name, bayes_params):\n",
    "    \"\"\" This function gets a data and calculates posterior probability P(Y|X) \"\"\"\n",
    "    prior_prob = calculate_nive_prob(data, bayes_params[class_name]) # P(X|y)\n",
    "    class_prob = bayes_params[class_name]['class_size']/bayes_params['data_size']\n",
    "    return  prior_prob*class_prob"
   ]
  },
  {
   "cell_type": "markdown",
   "metadata": {},
   "source": [
    "##### Model evaluation on test and training data"
   ]
  },
  {
   "cell_type": "code",
   "execution_count": 14,
   "metadata": {},
   "outputs": [
    {
     "name": "stdout",
     "output_type": "stream",
     "text": [
      "### train ###\n",
      "confusion matrix: {'FP': 0, 'FN': 0, 'TP': 416, 'TN': 404}\n",
      "\t precision: 1.0\n",
      "\t recall: 1.0\n",
      "### test ###\n",
      "confusion matrix: {'FP': 0, 'FN': 0, 'TP': 110, 'TN': 95}\n",
      "\t precision: 1.0\n",
      "\t recall: 1.0\n"
     ]
    }
   ],
   "source": [
    "def evaluate_model2(data):\n",
    "    \"\"\" This function gest train or test data and predicts class of them and then evaluates results \"\"\"\n",
    "    class_labels = data['target'].unique()\n",
    "    confusion_matrix = {'FP':0, 'FN':0, 'TP':0, 'TN':0}\n",
    "    for index, data_sample in data.iterrows():\n",
    "        class_probes = {}\n",
    "        for label in class_labels:\n",
    "            prob = calculate_posterior_prob2(data_sample, label, bayes_params)\n",
    "            class_probes[label] = prob\n",
    "        predicted_label = max(class_probes, key=lambda x:class_probes[x])\n",
    "        if data_sample['target'] == 1:\n",
    "            if predicted_label == 1:\n",
    "                confusion_matrix['TP'] += 1\n",
    "            else:\n",
    "                confusion_matrix['FN'] += 1\n",
    "        else:\n",
    "            if predicted_label == 1:\n",
    "                confusion_matrix['FP'] += 1\n",
    "            else:\n",
    "                confusion_matrix['TN'] += 1\n",
    "    print(\"confusion matrix: \" + str(confusion_matrix))\n",
    "    print('\\t precision: ' + str(confusion_matrix['TP']/(confusion_matrix['TP']+confusion_matrix['FP'])))\n",
    "    print('\\t recall: ' + str(confusion_matrix['TP']/(confusion_matrix['TP']+confusion_matrix['FN'])))\n",
    "\n",
    "bayes_params = get_bayes_params(train, train.columns)\n",
    "print(\"### train ###\")\n",
    "evaluate_model2(train)\n",
    "print(\"### test ###\")\n",
    "evaluate_model2(test)"
   ]
  },
  {
   "cell_type": "markdown",
   "metadata": {},
   "source": [
    "#### Part C: Remove 'chol' and 'oldpeak'  features and repeat Part B"
   ]
  },
  {
   "cell_type": "markdown",
   "metadata": {},
   "source": [
    "###### Remove 'chol' feature"
   ]
  },
  {
   "cell_type": "code",
   "execution_count": 15,
   "metadata": {},
   "outputs": [
    {
     "name": "stdout",
     "output_type": "stream",
     "text": [
      "### train ###\n",
      "confusion matrix: {'FP': 4, 'FN': 0, 'TP': 416, 'TN': 400}\n",
      "\t precision: 0.9904761904761905\n",
      "\t recall: 1.0\n",
      "### test ###\n",
      "confusion matrix: {'FP': 0, 'FN': 0, 'TP': 110, 'TN': 95}\n",
      "\t precision: 1.0\n",
      "\t recall: 1.0\n"
     ]
    }
   ],
   "source": [
    "train1, test1 = train.drop(columns='chol'), test.drop(columns='chol')\n",
    "bayes_params = get_bayes_params(train1, train1.columns)\n",
    "print(\"### train ###\")\n",
    "evaluate_model2(train1)\n",
    "print(\"### test ###\")\n",
    "evaluate_model2(test1)"
   ]
  },
  {
   "cell_type": "markdown",
   "metadata": {},
   "source": [
    "###### Remove 'oldpeak' feature"
   ]
  },
  {
   "cell_type": "code",
   "execution_count": 16,
   "metadata": {},
   "outputs": [
    {
     "name": "stdout",
     "output_type": "stream",
     "text": [
      "### train ###\n",
      "confusion matrix: {'FP': 0, 'FN': 0, 'TP': 416, 'TN': 404}\n",
      "\t precision: 1.0\n",
      "\t recall: 1.0\n",
      "### test ###\n",
      "confusion matrix: {'FP': 0, 'FN': 0, 'TP': 110, 'TN': 95}\n",
      "\t precision: 1.0\n",
      "\t recall: 1.0\n"
     ]
    }
   ],
   "source": [
    "train2, test2 = train.drop(columns='oldpeak'), test.drop(columns='oldpeak')\n",
    "bayes_params = get_bayes_params(train2, train2.columns)\n",
    "print(\"### train ###\")\n",
    "evaluate_model2(train2)\n",
    "print(\"### test ###\")\n",
    "evaluate_model2(test2)"
   ]
  },
  {
   "cell_type": "code",
   "execution_count": null,
   "metadata": {},
   "outputs": [],
   "source": []
  }
 ],
 "metadata": {
  "kernelspec": {
   "display_name": "Python 3",
   "language": "python",
   "name": "python3"
  },
  "language_info": {
   "codemirror_mode": {
    "name": "ipython",
    "version": 3
   },
   "file_extension": ".py",
   "mimetype": "text/x-python",
   "name": "python",
   "nbconvert_exporter": "python",
   "pygments_lexer": "ipython3",
   "version": "3.7.4"
  }
 },
 "nbformat": 4,
 "nbformat_minor": 4
}
