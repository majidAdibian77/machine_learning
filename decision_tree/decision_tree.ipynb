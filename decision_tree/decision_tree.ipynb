{
 "cells": [
  {
   "cell_type": "code",
   "execution_count": null,
   "metadata": {},
   "outputs": [],
   "source": [
    "import sys\n",
    "!{sys.executable} -m pip3 install pandas\n",
    "!{sys.executable} -m pip3 install numpy"
   ]
  },
  {
   "cell_type": "code",
   "execution_count": 2,
   "metadata": {},
   "outputs": [],
   "source": [
    "import pandas\n",
    "from sklearn import tree\n",
    "import numpy as np\n",
    "from sklearn.model_selection import train_test_split"
   ]
  },
  {
   "cell_type": "markdown",
   "metadata": {},
   "source": [
    "###### Read and show data"
   ]
  },
  {
   "cell_type": "code",
   "execution_count": 4,
   "metadata": {
    "scrolled": true
   },
   "outputs": [
    {
     "name": "stdout",
     "output_type": "stream",
     "text": [
      "(418, 10)\n"
     ]
    },
    {
     "data": {
      "text/html": [
       "<div>\n",
       "<style scoped>\n",
       "    .dataframe tbody tr th:only-of-type {\n",
       "        vertical-align: middle;\n",
       "    }\n",
       "\n",
       "    .dataframe tbody tr th {\n",
       "        vertical-align: top;\n",
       "    }\n",
       "\n",
       "    .dataframe thead th {\n",
       "        text-align: right;\n",
       "    }\n",
       "</style>\n",
       "<table border=\"1\" class=\"dataframe\">\n",
       "  <thead>\n",
       "    <tr style=\"text-align: right;\">\n",
       "      <th></th>\n",
       "      <th>Pclass</th>\n",
       "      <th>Name</th>\n",
       "      <th>Sex</th>\n",
       "      <th>Age</th>\n",
       "      <th>SibSp</th>\n",
       "      <th>Parch</th>\n",
       "      <th>Ticket</th>\n",
       "      <th>Fare</th>\n",
       "      <th>Cabin</th>\n",
       "      <th>Embarked</th>\n",
       "    </tr>\n",
       "    <tr>\n",
       "      <th>PassengerId</th>\n",
       "      <th></th>\n",
       "      <th></th>\n",
       "      <th></th>\n",
       "      <th></th>\n",
       "      <th></th>\n",
       "      <th></th>\n",
       "      <th></th>\n",
       "      <th></th>\n",
       "      <th></th>\n",
       "      <th></th>\n",
       "    </tr>\n",
       "  </thead>\n",
       "  <tbody>\n",
       "    <tr>\n",
       "      <th>892</th>\n",
       "      <td>3</td>\n",
       "      <td>Kelly, Mr. James</td>\n",
       "      <td>male</td>\n",
       "      <td>34.5</td>\n",
       "      <td>0</td>\n",
       "      <td>0</td>\n",
       "      <td>330911</td>\n",
       "      <td>7.8292</td>\n",
       "      <td>NaN</td>\n",
       "      <td>Q</td>\n",
       "    </tr>\n",
       "    <tr>\n",
       "      <th>893</th>\n",
       "      <td>3</td>\n",
       "      <td>Wilkes, Mrs. James (Ellen Needs)</td>\n",
       "      <td>female</td>\n",
       "      <td>47.0</td>\n",
       "      <td>1</td>\n",
       "      <td>0</td>\n",
       "      <td>363272</td>\n",
       "      <td>7.0000</td>\n",
       "      <td>NaN</td>\n",
       "      <td>S</td>\n",
       "    </tr>\n",
       "    <tr>\n",
       "      <th>894</th>\n",
       "      <td>2</td>\n",
       "      <td>Myles, Mr. Thomas Francis</td>\n",
       "      <td>male</td>\n",
       "      <td>62.0</td>\n",
       "      <td>0</td>\n",
       "      <td>0</td>\n",
       "      <td>240276</td>\n",
       "      <td>9.6875</td>\n",
       "      <td>NaN</td>\n",
       "      <td>Q</td>\n",
       "    </tr>\n",
       "    <tr>\n",
       "      <th>895</th>\n",
       "      <td>3</td>\n",
       "      <td>Wirz, Mr. Albert</td>\n",
       "      <td>male</td>\n",
       "      <td>27.0</td>\n",
       "      <td>0</td>\n",
       "      <td>0</td>\n",
       "      <td>315154</td>\n",
       "      <td>8.6625</td>\n",
       "      <td>NaN</td>\n",
       "      <td>S</td>\n",
       "    </tr>\n",
       "    <tr>\n",
       "      <th>896</th>\n",
       "      <td>3</td>\n",
       "      <td>Hirvonen, Mrs. Alexander (Helga E Lindqvist)</td>\n",
       "      <td>female</td>\n",
       "      <td>22.0</td>\n",
       "      <td>1</td>\n",
       "      <td>1</td>\n",
       "      <td>3101298</td>\n",
       "      <td>12.2875</td>\n",
       "      <td>NaN</td>\n",
       "      <td>S</td>\n",
       "    </tr>\n",
       "  </tbody>\n",
       "</table>\n",
       "</div>"
      ],
      "text/plain": [
       "             Pclass                                          Name     Sex  \\\n",
       "PassengerId                                                                 \n",
       "892               3                              Kelly, Mr. James    male   \n",
       "893               3              Wilkes, Mrs. James (Ellen Needs)  female   \n",
       "894               2                     Myles, Mr. Thomas Francis    male   \n",
       "895               3                              Wirz, Mr. Albert    male   \n",
       "896               3  Hirvonen, Mrs. Alexander (Helga E Lindqvist)  female   \n",
       "\n",
       "              Age  SibSp  Parch   Ticket     Fare Cabin Embarked  \n",
       "PassengerId                                                       \n",
       "892          34.5      0      0   330911   7.8292   NaN        Q  \n",
       "893          47.0      1      0   363272   7.0000   NaN        S  \n",
       "894          62.0      0      0   240276   9.6875   NaN        Q  \n",
       "895          27.0      0      0   315154   8.6625   NaN        S  \n",
       "896          22.0      1      1  3101298  12.2875   NaN        S  "
      ]
     },
     "execution_count": 4,
     "metadata": {},
     "output_type": "execute_result"
    }
   ],
   "source": [
    "train_data = pandas.read_csv('titanic/train.csv', index_col='PassengerId')\n",
    "test_data = pandas.read_csv('titanic/test.csv', index_col='PassengerId')\n",
    "print(test_data.shape)\n",
    "test_data.head()"
   ]
  },
  {
   "cell_type": "markdown",
   "metadata": {},
   "source": [
    "###### Convert values in data to numeric values"
   ]
  },
  {
   "cell_type": "code",
   "execution_count": 5,
   "metadata": {},
   "outputs": [
    {
     "data": {
      "text/html": [
       "<div>\n",
       "<style scoped>\n",
       "    .dataframe tbody tr th:only-of-type {\n",
       "        vertical-align: middle;\n",
       "    }\n",
       "\n",
       "    .dataframe tbody tr th {\n",
       "        vertical-align: top;\n",
       "    }\n",
       "\n",
       "    .dataframe thead th {\n",
       "        text-align: right;\n",
       "    }\n",
       "</style>\n",
       "<table border=\"1\" class=\"dataframe\">\n",
       "  <thead>\n",
       "    <tr style=\"text-align: right;\">\n",
       "      <th></th>\n",
       "      <th>Survived</th>\n",
       "      <th>Pclass</th>\n",
       "      <th>Name</th>\n",
       "      <th>Sex</th>\n",
       "      <th>Age</th>\n",
       "      <th>SibSp</th>\n",
       "      <th>Parch</th>\n",
       "      <th>Ticket</th>\n",
       "      <th>Fare</th>\n",
       "      <th>Cabin</th>\n",
       "      <th>Embarked</th>\n",
       "    </tr>\n",
       "    <tr>\n",
       "      <th>PassengerId</th>\n",
       "      <th></th>\n",
       "      <th></th>\n",
       "      <th></th>\n",
       "      <th></th>\n",
       "      <th></th>\n",
       "      <th></th>\n",
       "      <th></th>\n",
       "      <th></th>\n",
       "      <th></th>\n",
       "      <th></th>\n",
       "      <th></th>\n",
       "    </tr>\n",
       "  </thead>\n",
       "  <tbody>\n",
       "    <tr>\n",
       "      <th>1</th>\n",
       "      <td>0</td>\n",
       "      <td>3</td>\n",
       "      <td>698</td>\n",
       "      <td>0</td>\n",
       "      <td>22.0</td>\n",
       "      <td>1</td>\n",
       "      <td>0</td>\n",
       "      <td>446</td>\n",
       "      <td>7.2500</td>\n",
       "      <td>NaN</td>\n",
       "      <td>1.0</td>\n",
       "    </tr>\n",
       "    <tr>\n",
       "      <th>2</th>\n",
       "      <td>1</td>\n",
       "      <td>1</td>\n",
       "      <td>430</td>\n",
       "      <td>1</td>\n",
       "      <td>38.0</td>\n",
       "      <td>1</td>\n",
       "      <td>0</td>\n",
       "      <td>429</td>\n",
       "      <td>71.2833</td>\n",
       "      <td>102.0</td>\n",
       "      <td>3.0</td>\n",
       "    </tr>\n",
       "    <tr>\n",
       "      <th>3</th>\n",
       "      <td>1</td>\n",
       "      <td>3</td>\n",
       "      <td>599</td>\n",
       "      <td>1</td>\n",
       "      <td>26.0</td>\n",
       "      <td>0</td>\n",
       "      <td>0</td>\n",
       "      <td>146</td>\n",
       "      <td>7.9250</td>\n",
       "      <td>NaN</td>\n",
       "      <td>1.0</td>\n",
       "    </tr>\n",
       "    <tr>\n",
       "      <th>4</th>\n",
       "      <td>1</td>\n",
       "      <td>1</td>\n",
       "      <td>137</td>\n",
       "      <td>1</td>\n",
       "      <td>35.0</td>\n",
       "      <td>1</td>\n",
       "      <td>0</td>\n",
       "      <td>108</td>\n",
       "      <td>53.1000</td>\n",
       "      <td>28.0</td>\n",
       "      <td>1.0</td>\n",
       "    </tr>\n",
       "    <tr>\n",
       "      <th>5</th>\n",
       "      <td>0</td>\n",
       "      <td>3</td>\n",
       "      <td>568</td>\n",
       "      <td>0</td>\n",
       "      <td>35.0</td>\n",
       "      <td>0</td>\n",
       "      <td>0</td>\n",
       "      <td>262</td>\n",
       "      <td>8.0500</td>\n",
       "      <td>NaN</td>\n",
       "      <td>1.0</td>\n",
       "    </tr>\n",
       "  </tbody>\n",
       "</table>\n",
       "</div>"
      ],
      "text/plain": [
       "             Survived  Pclass  Name  Sex   Age  SibSp  Parch  Ticket     Fare  \\\n",
       "PassengerId                                                                     \n",
       "1                   0       3   698    0  22.0      1      0     446   7.2500   \n",
       "2                   1       1   430    1  38.0      1      0     429  71.2833   \n",
       "3                   1       3   599    1  26.0      0      0     146   7.9250   \n",
       "4                   1       1   137    1  35.0      1      0     108  53.1000   \n",
       "5                   0       3   568    0  35.0      0      0     262   8.0500   \n",
       "\n",
       "             Cabin  Embarked  \n",
       "PassengerId                   \n",
       "1              NaN       1.0  \n",
       "2            102.0       3.0  \n",
       "3              NaN       1.0  \n",
       "4             28.0       1.0  \n",
       "5              NaN       1.0  "
      ]
     },
     "execution_count": 5,
     "metadata": {},
     "output_type": "execute_result"
    }
   ],
   "source": [
    "def convert_non_numerical(data):\n",
    "    \"\"\" This function converts non numeric values to numeric values \"\"\"\n",
    "    new_data = data.copy()\n",
    "    columns = list(data.columns)\n",
    "    for column in columns:\n",
    "        if str(data[column].dtype) not in ['int64', 'float64']:\n",
    "            all_values = data[column].values\n",
    "            unique_values = list(set(all_values))\n",
    "            new_values = [unique_values.index(value) for value in all_values]\n",
    "            new_data[column] = new_values\n",
    "#     print(data.isna())\n",
    "    new_data[data.isna()] = np.nan\n",
    "    return new_data\n",
    "train_numeric = convert_non_numerical(train_data)\n",
    "train_numeric.head()"
   ]
  },
  {
   "cell_type": "markdown",
   "metadata": {},
   "source": [
    "##### Check number of nan in 'cabin' feature"
   ]
  },
  {
   "cell_type": "code",
   "execution_count": 6,
   "metadata": {},
   "outputs": [
    {
     "name": "stdout",
     "output_type": "stream",
     "text": [
      "Data:\n",
      "number of all rows in training data: 891\n",
      "number of rows contain Cabin=nan in training data: 687\n",
      "number of rows after droping \"Cabin\" in training data: 891\n"
     ]
    }
   ],
   "source": [
    "# Because in 687 rows have Cabin=nan, first we delete Cabin column\n",
    "print('Data:')\n",
    "print('number of all rows in training data: ' + str(train_numeric.shape[0]))\n",
    "print('number of rows contain Cabin=nan in training data: ' + str(train_numeric['Cabin'].isna().sum()))\n",
    "train_drop_cabin = train_numeric.drop('Cabin', axis=1)\n",
    "print('number of rows after droping \"Cabin\" in training data: ' + str(len(train_numeric)))"
   ]
  },
  {
   "cell_type": "markdown",
   "metadata": {},
   "source": [
    "###### Fill nan values in data with tow method: 1) using value of neares row 2) using mean of that column"
   ]
  },
  {
   "cell_type": "code",
   "execution_count": 7,
   "metadata": {
    "scrolled": false
   },
   "outputs": [],
   "source": [
    "def fill_nan_with_nearest(data_with_nan, train_data):\n",
    "    \"\"\" This function gets data that has nan value and train data that is used to get nearest row \n",
    "        and for any nan value use value of nearest row to that row \n",
    "    \"\"\"\n",
    "    nan_cols = train_data.isna().sum()\n",
    "    filled_col = [col for col in nan_cols.keys() if nan_cols[col]==0]\n",
    "    for index, row in data_with_nan[data_with_nan.isna().any(axis=1)].iterrows():  # iterate all row with nan value\n",
    "        dist_per_row = {}\n",
    "        for index2, row2 in train_data[~train_data.isna().any(axis=1)].iterrows():  # iterate all row without nan value\n",
    "            dist_per_row[index2] = np.array([row[v] for v in filled_col]).T @ np.array([row2[v] for v in filled_col])\n",
    "        nearest_row_id = min(dist_per_row, key=lambda x:dist_per_row[x])\n",
    "        for attr in row[row.isna()].keys():\n",
    "            data_with_nan.at[index, attr] = train_data.at[nearest_row_id, attr]\n",
    "    return data_with_nan\n",
    "\n",
    "def fill_nan_with_mean(data):\n",
    "    \"\"\" This functions gets data and fill nan values with mean in that column \"\"\"\n",
    "    for col in data.columns:\n",
    "        mean_value=data[col].mean()\n",
    "        data[col].fillna(value=mean_value, inplace=True)\n",
    "    return data"
   ]
  },
  {
   "cell_type": "markdown",
   "metadata": {},
   "source": [
    "###### evaluate results by calculating precision and recall"
   ]
  },
  {
   "cell_type": "code",
   "execution_count": 9,
   "metadata": {},
   "outputs": [],
   "source": [
    "def evaluate_results(predicteds, labels):\n",
    "    \"\"\" This function gets predicted class and real labels and then evaluates that results \"\"\"\n",
    "    confusion_matrix = {'FP':0, 'FN':0, 'TP':0, 'TN':0}\n",
    "    for i, predicted in enumerate(predicteds):\n",
    "        if labels[i] == 1:\n",
    "            if predicted == 1:\n",
    "                confusion_matrix['TP'] += 1\n",
    "            else:\n",
    "                confusion_matrix['FN'] += 1\n",
    "        else:\n",
    "            if predicted == 1:\n",
    "                confusion_matrix['FP'] += 1\n",
    "            else:\n",
    "                confusion_matrix['TN'] += 1\n",
    "    precision = confusion_matrix['TP']/(confusion_matrix['TP']+confusion_matrix['FP'])\n",
    "    recall = confusion_matrix['TP']/(confusion_matrix['TP']+confusion_matrix['FN'])\n",
    "    F1 = 2*(precision*recall)/(precision+recall)\n",
    "    print('\\t precision: ' + str(precision))\n",
    "    print('\\t recall: ' + str(recall))\n",
    "    print('\\t F1: ' + str(F1))\n",
    "    return F1"
   ]
  },
  {
   "cell_type": "markdown",
   "metadata": {},
   "source": [
    "###### Create decision tree for training data and evaluate in test data"
   ]
  },
  {
   "cell_type": "code",
   "execution_count": 10,
   "metadata": {},
   "outputs": [],
   "source": [
    "def decision_tree(method, depth, train, test):\n",
    "    \"\"\" This function gets depth and method of tree and then creating tree for training data \"\"\"\n",
    "    dt = tree.DecisionTreeClassifier(criterion=method, max_depth=depth)\n",
    "    train_labels = train['Survived']\n",
    "    train_data = train.drop('Survived', axis=1)\n",
    "    test_labels = test['Survived']\n",
    "    test_data = test.drop('Survived', axis=1)\n",
    "\n",
    "    dt = dt.fit(train_data, train_labels)\n",
    "    \n",
    "    predicteds = dt.predict(test_data)\n",
    "    score = evaluate_results(predicteds, test_labels.values)\n",
    "    return score"
   ]
  },
  {
   "cell_type": "markdown",
   "metadata": {},
   "source": [
    "###### Preprocess test data as we do for train data using above functions"
   ]
  },
  {
   "cell_type": "code",
   "execution_count": 11,
   "metadata": {},
   "outputs": [],
   "source": [
    "def preprocess_data(data, train_data):\n",
    "    data_numeric = convert_non_numerical(data)\n",
    "    data_drop_cabin = data_numeric.drop('Cabin', axis=1)\n",
    "    data_numeric_filled_nan_nearest = fill_nan_with_nearest(data_drop_cabin, train_data)  # first method for fill nan\n",
    "    data_numeric_filled_nan_mean = fill_nan_with_mean(data_drop_cabin)  # second method fill nan\n",
    "    return data_numeric_filled_nan_nearest, data_numeric_filled_nan_mean"
   ]
  },
  {
   "cell_type": "markdown",
   "metadata": {},
   "source": [
    "###### Splite train data to train and validation to find best depth of tree and best method for filling nan values"
   ]
  },
  {
   "cell_type": "code",
   "execution_count": 13,
   "metadata": {},
   "outputs": [],
   "source": [
    "data = train_data.sample(frac=1).reset_index(drop=True)  # shuffeling data\n",
    "train , validation = data[:int(len(data)*0.8)], data[int(len(data)*0.8):]  # spliting data\n",
    "train_numeric_filled_nan_nearest, train_numeric_filled_nan_mean = preprocess_data(train, train_drop_cabin)\n",
    "val_numeric_filled_nan_nearest, val_numeric_filled_nan_mean = preprocess_data(validation, train_drop_cabin)"
   ]
  },
  {
   "cell_type": "markdown",
   "metadata": {},
   "source": [
    "###### Create tree per method and deph and calculate F1 measure for them"
   ]
  },
  {
   "cell_type": "code",
   "execution_count": 14,
   "metadata": {
    "scrolled": true
   },
   "outputs": [
    {
     "name": "stdout",
     "output_type": "stream",
     "text": [
      "#### Using nearest row to fill nan vslues ####\n",
      "depth: 1\n",
      "\t precision: 0.7333333333333333\n",
      "\t recall: 0.6376811594202898\n",
      "\t F1: 0.6821705426356589\n",
      "depth: 2\n",
      "\t precision: 0.9354838709677419\n",
      "\t recall: 0.42028985507246375\n",
      "\t F1: 0.58\n",
      "depth: 3\n",
      "\t precision: 0.7619047619047619\n",
      "\t recall: 0.6956521739130435\n",
      "\t F1: 0.7272727272727272\n",
      "depth: 4\n",
      "\t precision: 0.7333333333333333\n",
      "\t recall: 0.6376811594202898\n",
      "\t F1: 0.6821705426356589\n",
      "depth: 5\n",
      "\t precision: 0.746031746031746\n",
      "\t recall: 0.6811594202898551\n",
      "\t F1: 0.7121212121212122\n",
      "depth: 6\n",
      "\t precision: 0.7142857142857143\n",
      "\t recall: 0.6521739130434783\n",
      "\t F1: 0.6818181818181819\n",
      "depth: 7\n",
      "\t precision: 0.711864406779661\n",
      "\t recall: 0.6086956521739131\n",
      "\t F1: 0.6562500000000001\n",
      "depth: 8\n",
      "\t precision: 0.7241379310344828\n",
      "\t recall: 0.6086956521739131\n",
      "\t F1: 0.6614173228346457\n",
      "depth: 9\n",
      "\t precision: 0.7058823529411765\n",
      "\t recall: 0.5217391304347826\n",
      "\t F1: 0.6\n",
      "\n",
      "#### Using mean to fill nan vslues ####\n",
      "depth: 1\n",
      "\t precision: 0.7333333333333333\n",
      "\t recall: 0.6376811594202898\n",
      "\t F1: 0.6821705426356589\n",
      "depth: 2\n",
      "\t precision: 0.9354838709677419\n",
      "\t recall: 0.42028985507246375\n",
      "\t F1: 0.58\n",
      "depth: 3\n",
      "\t precision: 0.7619047619047619\n",
      "\t recall: 0.6956521739130435\n",
      "\t F1: 0.7272727272727272\n",
      "depth: 4\n",
      "\t precision: 0.7333333333333333\n",
      "\t recall: 0.6376811594202898\n",
      "\t F1: 0.6821705426356589\n",
      "depth: 5\n",
      "\t precision: 0.746031746031746\n",
      "\t recall: 0.6811594202898551\n",
      "\t F1: 0.7121212121212122\n",
      "depth: 6\n",
      "\t precision: 0.71875\n",
      "\t recall: 0.6666666666666666\n",
      "\t F1: 0.6917293233082707\n",
      "depth: 7\n",
      "\t precision: 0.7166666666666667\n",
      "\t recall: 0.6231884057971014\n",
      "\t F1: 0.6666666666666667\n",
      "depth: 8\n",
      "\t precision: 0.7192982456140351\n",
      "\t recall: 0.5942028985507246\n",
      "\t F1: 0.6507936507936508\n",
      "depth: 9\n",
      "\t precision: 0.6938775510204082\n",
      "\t recall: 0.4927536231884058\n",
      "\t F1: 0.576271186440678\n"
     ]
    }
   ],
   "source": [
    "method = 'entropy'\n",
    "print(\"#### Using nearest row to fill nan vslues ####\")\n",
    "method_score = {}\n",
    "for i in range(1, 10):\n",
    "    depth = i\n",
    "    print(\"depth: \" + str(i))\n",
    "    score = decision_tree(method, depth, train_numeric_filled_nan_nearest, val_numeric_filled_nan_nearest)\n",
    "    method_score[str(i) + ' nearest'] = score\n",
    "print(\"\\n#### Using mean to fill nan vslues ####\")\n",
    "for i in range(1, 10):\n",
    "    depth = i\n",
    "    print(\"depth: \" + str(i))\n",
    "    score = decision_tree(method, depth, train_numeric_filled_nan_mean, val_numeric_filled_nan_mean)\n",
    "    method_score[str(i) + ' mean'] = score"
   ]
  },
  {
   "cell_type": "markdown",
   "metadata": {},
   "source": [
    "###### Select best method accourding to F1 measures"
   ]
  },
  {
   "cell_type": "code",
   "execution_count": 16,
   "metadata": {},
   "outputs": [
    {
     "name": "stdout",
     "output_type": "stream",
     "text": [
      "Best method for filling nan values: nearest\n",
      "Best depth for tree: 3\n"
     ]
    }
   ],
   "source": [
    "best_method = max(method_score, key= lambda x:method_score[x])\n",
    "best_depth, best_fill_nan_method = best_method.split()\n",
    "print('Best method for filling nan values: ' + best_fill_nan_method)\n",
    "print('Best depth for tree: ' + best_depth)"
   ]
  },
  {
   "cell_type": "markdown",
   "metadata": {},
   "source": [
    "###### Train decision tree with best parameters"
   ]
  },
  {
   "cell_type": "code",
   "execution_count": 17,
   "metadata": {},
   "outputs": [
    {
     "name": "stdout",
     "output_type": "stream",
     "text": [
      "Tree with 3 depth\n"
     ]
    },
    {
     "data": {
      "image/png": "[encoded data removed]",
      "text/plain": [
       "<Figure size 432x288 with 1 Axes>"
      ]
     },
     "metadata": {
      "needs_background": "light"
     },
     "output_type": "display_data"
    }
   ],
   "source": [
    "dt = tree.DecisionTreeClassifier(criterion=method, max_depth=int(best_depth))\n",
    "train_labels = train_numeric_filled_nan_nearest['Survived']\n",
    "train_data = train_numeric_filled_nan_nearest.drop('Survived', axis=1)\n",
    "dt = dt.fit(train_data, train_labels)\n",
    "tree.plot_tree(dt)\n",
    "print('Tree with {} depth'.format(best_depth))"
   ]
  },
  {
   "cell_type": "markdown",
   "metadata": {},
   "source": [
    "###### Predict labels of test data using trained decision tree after preprocessing test data "
   ]
  },
  {
   "cell_type": "code",
   "execution_count": 18,
   "metadata": {},
   "outputs": [
    {
     "data": {
      "text/html": [
       "<div>\n",
       "<style scoped>\n",
       "    .dataframe tbody tr th:only-of-type {\n",
       "        vertical-align: middle;\n",
       "    }\n",
       "\n",
       "    .dataframe tbody tr th {\n",
       "        vertical-align: top;\n",
       "    }\n",
       "\n",
       "    .dataframe thead th {\n",
       "        text-align: right;\n",
       "    }\n",
       "</style>\n",
       "<table border=\"1\" class=\"dataframe\">\n",
       "  <thead>\n",
       "    <tr style=\"text-align: right;\">\n",
       "      <th></th>\n",
       "      <th>Pclass</th>\n",
       "      <th>Name</th>\n",
       "      <th>Sex</th>\n",
       "      <th>Age</th>\n",
       "      <th>SibSp</th>\n",
       "      <th>Parch</th>\n",
       "      <th>Ticket</th>\n",
       "      <th>Fare</th>\n",
       "      <th>Cabin</th>\n",
       "      <th>Embarked</th>\n",
       "      <th>Survived</th>\n",
       "    </tr>\n",
       "    <tr>\n",
       "      <th>PassengerId</th>\n",
       "      <th></th>\n",
       "      <th></th>\n",
       "      <th></th>\n",
       "      <th></th>\n",
       "      <th></th>\n",
       "      <th></th>\n",
       "      <th></th>\n",
       "      <th></th>\n",
       "      <th></th>\n",
       "      <th></th>\n",
       "      <th></th>\n",
       "    </tr>\n",
       "  </thead>\n",
       "  <tbody>\n",
       "    <tr>\n",
       "      <th>892</th>\n",
       "      <td>3</td>\n",
       "      <td>Kelly, Mr. James</td>\n",
       "      <td>male</td>\n",
       "      <td>34.5</td>\n",
       "      <td>0</td>\n",
       "      <td>0</td>\n",
       "      <td>330911</td>\n",
       "      <td>7.8292</td>\n",
       "      <td>NaN</td>\n",
       "      <td>Q</td>\n",
       "      <td>0</td>\n",
       "    </tr>\n",
       "    <tr>\n",
       "      <th>893</th>\n",
       "      <td>3</td>\n",
       "      <td>Wilkes, Mrs. James (Ellen Needs)</td>\n",
       "      <td>female</td>\n",
       "      <td>47.0</td>\n",
       "      <td>1</td>\n",
       "      <td>0</td>\n",
       "      <td>363272</td>\n",
       "      <td>7.0000</td>\n",
       "      <td>NaN</td>\n",
       "      <td>S</td>\n",
       "      <td>1</td>\n",
       "    </tr>\n",
       "    <tr>\n",
       "      <th>894</th>\n",
       "      <td>2</td>\n",
       "      <td>Myles, Mr. Thomas Francis</td>\n",
       "      <td>male</td>\n",
       "      <td>62.0</td>\n",
       "      <td>0</td>\n",
       "      <td>0</td>\n",
       "      <td>240276</td>\n",
       "      <td>9.6875</td>\n",
       "      <td>NaN</td>\n",
       "      <td>Q</td>\n",
       "      <td>0</td>\n",
       "    </tr>\n",
       "    <tr>\n",
       "      <th>895</th>\n",
       "      <td>3</td>\n",
       "      <td>Wirz, Mr. Albert</td>\n",
       "      <td>male</td>\n",
       "      <td>27.0</td>\n",
       "      <td>0</td>\n",
       "      <td>0</td>\n",
       "      <td>315154</td>\n",
       "      <td>8.6625</td>\n",
       "      <td>NaN</td>\n",
       "      <td>S</td>\n",
       "      <td>0</td>\n",
       "    </tr>\n",
       "    <tr>\n",
       "      <th>896</th>\n",
       "      <td>3</td>\n",
       "      <td>Hirvonen, Mrs. Alexander (Helga E Lindqvist)</td>\n",
       "      <td>female</td>\n",
       "      <td>22.0</td>\n",
       "      <td>1</td>\n",
       "      <td>1</td>\n",
       "      <td>3101298</td>\n",
       "      <td>12.2875</td>\n",
       "      <td>NaN</td>\n",
       "      <td>S</td>\n",
       "      <td>1</td>\n",
       "    </tr>\n",
       "  </tbody>\n",
       "</table>\n",
       "</div>"
      ],
      "text/plain": [
       "             Pclass                                          Name     Sex  \\\n",
       "PassengerId                                                                 \n",
       "892               3                              Kelly, Mr. James    male   \n",
       "893               3              Wilkes, Mrs. James (Ellen Needs)  female   \n",
       "894               2                     Myles, Mr. Thomas Francis    male   \n",
       "895               3                              Wirz, Mr. Albert    male   \n",
       "896               3  Hirvonen, Mrs. Alexander (Helga E Lindqvist)  female   \n",
       "\n",
       "              Age  SibSp  Parch   Ticket     Fare Cabin Embarked  Survived  \n",
       "PassengerId                                                                 \n",
       "892          34.5      0      0   330911   7.8292   NaN        Q         0  \n",
       "893          47.0      1      0   363272   7.0000   NaN        S         1  \n",
       "894          62.0      0      0   240276   9.6875   NaN        Q         0  \n",
       "895          27.0      0      0   315154   8.6625   NaN        S         0  \n",
       "896          22.0      1      1  3101298  12.2875   NaN        S         1  "
      ]
     },
     "execution_count": 18,
     "metadata": {},
     "output_type": "execute_result"
    }
   ],
   "source": [
    "preprocessed_test, _ = preprocess_data(test_data, train_drop_cabin.drop('Survived', axis=1))\n",
    "predicteds = dt.predict(preprocessed_test)\n",
    "test_with_labels = test_data.copy()\n",
    "test_with_labels['Survived'] = predicteds\n",
    "test_with_labels.head()"
   ]
  },
  {
   "cell_type": "code",
   "execution_count": null,
   "metadata": {},
   "outputs": [],
   "source": []
  }
 ],
 "metadata": {
  "kernelspec": {
   "display_name": "Python 3",
   "language": "python",
   "name": "python3"
  },
  "language_info": {
   "codemirror_mode": {
    "name": "ipython",
    "version": 3
   },
   "file_extension": ".py",
   "mimetype": "text/x-python",
   "name": "python",
   "nbconvert_exporter": "python",
   "pygments_lexer": "ipython3",
   "version": "3.7.4"
  }
 },
 "nbformat": 4,
 "nbformat_minor": 4
}
