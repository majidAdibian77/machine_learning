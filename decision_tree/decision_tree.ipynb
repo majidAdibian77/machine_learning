{
 "cells": [
  {
   "cell_type": "code",
   "execution_count": 80,
   "metadata": {},
   "outputs": [],
   "source": [
    "import pandas\n",
    "from sklearn import tree\n",
    "import matplotlib.pyplot as plt\n",
    "from sklearn.model_selection import train_test_split"
   ]
  },
  {
   "cell_type": "code",
   "execution_count": 91,
   "metadata": {},
   "outputs": [],
   "source": [
    "# Reading file and creating train and test data and labels\n",
    "data = pandas.read_csv('train.csv', index_col='PassengerId')"
   ]
  },
  {
   "cell_type": "code",
   "execution_count": 92,
   "metadata": {},
   "outputs": [
    {
     "name": "stdout",
     "output_type": "stream",
     "text": [
      "Data:\n",
      "number of all rows in training data: 891\n",
      "number of rows contain Cabin=nan in training data: 687\n",
      "number of rows after clear data in training data: 712\n"
     ]
    },
    {
     "data": {
      "text/html": [
       "<div>\n",
       "<style scoped>\n",
       "    .dataframe tbody tr th:only-of-type {\n",
       "        vertical-align: middle;\n",
       "    }\n",
       "\n",
       "    .dataframe tbody tr th {\n",
       "        vertical-align: top;\n",
       "    }\n",
       "\n",
       "    .dataframe thead th {\n",
       "        text-align: right;\n",
       "    }\n",
       "</style>\n",
       "<table border=\"1\" class=\"dataframe\">\n",
       "  <thead>\n",
       "    <tr style=\"text-align: right;\">\n",
       "      <th></th>\n",
       "      <th>Survived</th>\n",
       "      <th>Pclass</th>\n",
       "      <th>Name</th>\n",
       "      <th>Sex</th>\n",
       "      <th>Age</th>\n",
       "      <th>SibSp</th>\n",
       "      <th>Parch</th>\n",
       "      <th>Ticket</th>\n",
       "      <th>Fare</th>\n",
       "      <th>Embarked</th>\n",
       "    </tr>\n",
       "    <tr>\n",
       "      <th>PassengerId</th>\n",
       "      <th></th>\n",
       "      <th></th>\n",
       "      <th></th>\n",
       "      <th></th>\n",
       "      <th></th>\n",
       "      <th></th>\n",
       "      <th></th>\n",
       "      <th></th>\n",
       "      <th></th>\n",
       "      <th></th>\n",
       "    </tr>\n",
       "  </thead>\n",
       "  <tbody>\n",
       "    <tr>\n",
       "      <th>1</th>\n",
       "      <td>0</td>\n",
       "      <td>3</td>\n",
       "      <td>Braund, Mr. Owen Harris</td>\n",
       "      <td>male</td>\n",
       "      <td>22.0</td>\n",
       "      <td>1</td>\n",
       "      <td>0</td>\n",
       "      <td>A/5 21171</td>\n",
       "      <td>7.2500</td>\n",
       "      <td>S</td>\n",
       "    </tr>\n",
       "    <tr>\n",
       "      <th>2</th>\n",
       "      <td>1</td>\n",
       "      <td>1</td>\n",
       "      <td>Cumings, Mrs. John Bradley (Florence Briggs Th...</td>\n",
       "      <td>female</td>\n",
       "      <td>38.0</td>\n",
       "      <td>1</td>\n",
       "      <td>0</td>\n",
       "      <td>PC 17599</td>\n",
       "      <td>71.2833</td>\n",
       "      <td>C</td>\n",
       "    </tr>\n",
       "    <tr>\n",
       "      <th>3</th>\n",
       "      <td>1</td>\n",
       "      <td>3</td>\n",
       "      <td>Heikkinen, Miss. Laina</td>\n",
       "      <td>female</td>\n",
       "      <td>26.0</td>\n",
       "      <td>0</td>\n",
       "      <td>0</td>\n",
       "      <td>STON/O2. 3101282</td>\n",
       "      <td>7.9250</td>\n",
       "      <td>S</td>\n",
       "    </tr>\n",
       "    <tr>\n",
       "      <th>4</th>\n",
       "      <td>1</td>\n",
       "      <td>1</td>\n",
       "      <td>Futrelle, Mrs. Jacques Heath (Lily May Peel)</td>\n",
       "      <td>female</td>\n",
       "      <td>35.0</td>\n",
       "      <td>1</td>\n",
       "      <td>0</td>\n",
       "      <td>113803</td>\n",
       "      <td>53.1000</td>\n",
       "      <td>S</td>\n",
       "    </tr>\n",
       "    <tr>\n",
       "      <th>5</th>\n",
       "      <td>0</td>\n",
       "      <td>3</td>\n",
       "      <td>Allen, Mr. William Henry</td>\n",
       "      <td>male</td>\n",
       "      <td>35.0</td>\n",
       "      <td>0</td>\n",
       "      <td>0</td>\n",
       "      <td>373450</td>\n",
       "      <td>8.0500</td>\n",
       "      <td>S</td>\n",
       "    </tr>\n",
       "    <tr>\n",
       "      <th>...</th>\n",
       "      <td>...</td>\n",
       "      <td>...</td>\n",
       "      <td>...</td>\n",
       "      <td>...</td>\n",
       "      <td>...</td>\n",
       "      <td>...</td>\n",
       "      <td>...</td>\n",
       "      <td>...</td>\n",
       "      <td>...</td>\n",
       "      <td>...</td>\n",
       "    </tr>\n",
       "    <tr>\n",
       "      <th>886</th>\n",
       "      <td>0</td>\n",
       "      <td>3</td>\n",
       "      <td>Rice, Mrs. William (Margaret Norton)</td>\n",
       "      <td>female</td>\n",
       "      <td>39.0</td>\n",
       "      <td>0</td>\n",
       "      <td>5</td>\n",
       "      <td>382652</td>\n",
       "      <td>29.1250</td>\n",
       "      <td>Q</td>\n",
       "    </tr>\n",
       "    <tr>\n",
       "      <th>887</th>\n",
       "      <td>0</td>\n",
       "      <td>2</td>\n",
       "      <td>Montvila, Rev. Juozas</td>\n",
       "      <td>male</td>\n",
       "      <td>27.0</td>\n",
       "      <td>0</td>\n",
       "      <td>0</td>\n",
       "      <td>211536</td>\n",
       "      <td>13.0000</td>\n",
       "      <td>S</td>\n",
       "    </tr>\n",
       "    <tr>\n",
       "      <th>888</th>\n",
       "      <td>1</td>\n",
       "      <td>1</td>\n",
       "      <td>Graham, Miss. Margaret Edith</td>\n",
       "      <td>female</td>\n",
       "      <td>19.0</td>\n",
       "      <td>0</td>\n",
       "      <td>0</td>\n",
       "      <td>112053</td>\n",
       "      <td>30.0000</td>\n",
       "      <td>S</td>\n",
       "    </tr>\n",
       "    <tr>\n",
       "      <th>890</th>\n",
       "      <td>1</td>\n",
       "      <td>1</td>\n",
       "      <td>Behr, Mr. Karl Howell</td>\n",
       "      <td>male</td>\n",
       "      <td>26.0</td>\n",
       "      <td>0</td>\n",
       "      <td>0</td>\n",
       "      <td>111369</td>\n",
       "      <td>30.0000</td>\n",
       "      <td>C</td>\n",
       "    </tr>\n",
       "    <tr>\n",
       "      <th>891</th>\n",
       "      <td>0</td>\n",
       "      <td>3</td>\n",
       "      <td>Dooley, Mr. Patrick</td>\n",
       "      <td>male</td>\n",
       "      <td>32.0</td>\n",
       "      <td>0</td>\n",
       "      <td>0</td>\n",
       "      <td>370376</td>\n",
       "      <td>7.7500</td>\n",
       "      <td>Q</td>\n",
       "    </tr>\n",
       "  </tbody>\n",
       "</table>\n",
       "<p>712 rows × 10 columns</p>\n",
       "</div>"
      ],
      "text/plain": [
       "             Survived  Pclass  \\\n",
       "PassengerId                     \n",
       "1                   0       3   \n",
       "2                   1       1   \n",
       "3                   1       3   \n",
       "4                   1       1   \n",
       "5                   0       3   \n",
       "...               ...     ...   \n",
       "886                 0       3   \n",
       "887                 0       2   \n",
       "888                 1       1   \n",
       "890                 1       1   \n",
       "891                 0       3   \n",
       "\n",
       "                                                          Name     Sex   Age  \\\n",
       "PassengerId                                                                    \n",
       "1                                      Braund, Mr. Owen Harris    male  22.0   \n",
       "2            Cumings, Mrs. John Bradley (Florence Briggs Th...  female  38.0   \n",
       "3                                       Heikkinen, Miss. Laina  female  26.0   \n",
       "4                 Futrelle, Mrs. Jacques Heath (Lily May Peel)  female  35.0   \n",
       "5                                     Allen, Mr. William Henry    male  35.0   \n",
       "...                                                        ...     ...   ...   \n",
       "886                       Rice, Mrs. William (Margaret Norton)  female  39.0   \n",
       "887                                      Montvila, Rev. Juozas    male  27.0   \n",
       "888                               Graham, Miss. Margaret Edith  female  19.0   \n",
       "890                                      Behr, Mr. Karl Howell    male  26.0   \n",
       "891                                        Dooley, Mr. Patrick    male  32.0   \n",
       "\n",
       "             SibSp  Parch            Ticket     Fare Embarked  \n",
       "PassengerId                                                    \n",
       "1                1      0         A/5 21171   7.2500        S  \n",
       "2                1      0          PC 17599  71.2833        C  \n",
       "3                0      0  STON/O2. 3101282   7.9250        S  \n",
       "4                1      0            113803  53.1000        S  \n",
       "5                0      0            373450   8.0500        S  \n",
       "...            ...    ...               ...      ...      ...  \n",
       "886              0      5            382652  29.1250        Q  \n",
       "887              0      0            211536  13.0000        S  \n",
       "888              0      0            112053  30.0000        S  \n",
       "890              0      0            111369  30.0000        C  \n",
       "891              0      0            370376   7.7500        Q  \n",
       "\n",
       "[712 rows x 10 columns]"
      ]
     },
     "execution_count": 92,
     "metadata": {},
     "output_type": "execute_result"
    }
   ],
   "source": [
    "# Clear data: Removing rows contain nan value\n",
    "# Because in 687 rows have Cabin=nan, first we delete Cabin column\n",
    "print('Data:')\n",
    "print('number of all rows in training data: ' + str(len(data)))\n",
    "print('number of rows contain Cabin=nan in training data: ' + str(data['Cabin'].isna().sum()))\n",
    "data.pop('Cabin')\n",
    "data = data.dropna()\n",
    "print('number of rows after clear data in training data: ' + str(len(data)))\n",
    "data"
   ]
  },
  {
   "cell_type": "code",
   "execution_count": 94,
   "metadata": {},
   "outputs": [],
   "source": [
    "# Handel non numerical data\n",
    "def convert_non_numerical(data):\n",
    "    columns = list(data.columns)\n",
    "    for column in columns:\n",
    "        if str(data[column].dtype) not in ['int64', 'float64']:\n",
    "            all_values = data[column].values\n",
    "            unique_values = list(set(all_values))\n",
    "            new_values = [unique_values.index(value) for value in all_values]\n",
    "            data[column] = new_values\n",
    "    return data"
   ]
  },
  {
   "cell_type": "code",
   "execution_count": 95,
   "metadata": {},
   "outputs": [
    {
     "name": "stdout",
     "output_type": "stream",
     "text": [
      "<bound method NDFrame.head of              Pclass  Name  Sex   Age  SibSp  Parch  Ticket     Fare  Embarked\n",
      "PassengerId                                                                  \n",
      "1                 3     8    0  22.0      1      0     390   7.2500         1\n",
      "2                 1   423    1  38.0      1      0      37  71.2833         2\n",
      "3                 3   501    1  26.0      0      0     503   7.9250         1\n",
      "4                 1   202    1  35.0      1      0     506  53.1000         1\n",
      "5                 3   247    0  35.0      0      0     535   8.0500         1\n",
      "...             ...   ...  ...   ...    ...    ...     ...      ...       ...\n",
      "886               3   528    1  39.0      0      5     403  29.1250         0\n",
      "887               2   596    0  27.0      0      0     510  13.0000         1\n",
      "888               1   214    1  19.0      0      0     295  30.0000         1\n",
      "890               1   118    0  26.0      0      0     529  30.0000         2\n",
      "891               3   561    0  32.0      0      0     310   7.7500         0\n",
      "\n",
      "[712 rows x 9 columns]>\n"
     ]
    }
   ],
   "source": [
    "# non numerical data\n",
    "data = convert_non_numerical(data)\n",
    "labels = data['Survived']\n",
    "data.pop('Survived')\n",
    "print(data.head)\n",
    "\n",
    "# Train and test set\n",
    "train_data, test_data, train_labels, test_labels = train_test_split(data, labels, test_size=0.20)"
   ]
  },
  {
   "cell_type": "code",
   "execution_count": 96,
   "metadata": {},
   "outputs": [
    {
     "ename": "SyntaxError",
     "evalue": "invalid syntax (<ipython-input-96-e6b879714fae>, line 4)",
     "output_type": "error",
     "traceback": [
      "\u001b[1;36m  File \u001b[1;32m\"<ipython-input-96-e6b879714fae>\"\u001b[1;36m, line \u001b[1;32m4\u001b[0m\n\u001b[1;33m    tree.plot_tree(dt)t_data, test_labels)\u001b[0m\n\u001b[1;37m                           ^\u001b[0m\n\u001b[1;31mSyntaxError\u001b[0m\u001b[1;31m:\u001b[0m invalid syntax\n"
     ]
    }
   ],
   "source": [
    "def desition_tree(method, depth):\n",
    "    dt = tree.DecisionTreeClassifier(criterion=method, max_depth=depth)\n",
    "    dt = dt.fit(train_data, train_labels)\n",
    "    tree.plot_tree(dt)t_data, test_labels)\n",
    "    return score"
   ]
  },
  {
   "cell_type": "code",
   "execution_count": 97,
   "metadata": {},
   "outputs": [
    {
     "name": "stdout",
     "output_type": "stream",
     "text": [
      "Accuracy for depth=1: 0.7832167832167832\n",
      "Accuracy for depth=2: 0.8321678321678322\n",
      "Accuracy for depth=3: 0.8531468531468531\n",
      "Accuracy for depth=4: 0.8041958041958042\n",
      "Accuracy for depth=5: 0.8181818181818182\n",
      "Accuracy for depth=6: 0.8251748251748252\n",
      "Accuracy for depth=7: 0.8111888111888111\n",
      "Accuracy for depth=8: 0.8041958041958042\n",
      "Accuracy for depth=9: 0.7902097902097902\n",
      "Accuracy for depth=10: 0.8041958041958042\n",
      "Accuracy for depth=11: 0.8111888111888111\n",
      "Accuracy for depth=12: 0.7832167832167832\n",
      "Accuracy for depth=13: 0.7972027972027972\n",
      "Accuracy for depth=14: 0.7902097902097902\n",
      "Accuracy for depth=15: 0.7832167832167832\n",
      "Accuracy for depth=16: 0.7272727272727273\n",
      "Accuracy for depth=17: 0.7482517482517482\n",
      "Accuracy for depth=18: 0.7762237762237763\n",
      "Accuracy for depth=19: 0.7762237762237763\n",
      "\n",
      "Best tree: depth=3   accuracy=0.8531468531468531\n"
     ]
    },
    {
     "data": {
      "text/plain": [
       "0.8531468531468531"
      ]
     },
     "execution_count": 97,
     "metadata": {},
     "output_type": "execute_result"
    },
    {
     "data": {
      "image/png": "[encoded data removed]",
      "text/plain": [
       "<Figure size 432x288 with 1 Axes>"
      ]
     },
     "metadata": {
      "needs_background": "light"
     },
     "output_type": "display_data"
    }
   ],
   "source": [
    "best_score = 0\n",
    "best_depth = 0\n",
    "for i in range(1, 11):\n",
    "    score = desition_tree('entropy', i)\n",
    "    print('Accuracy for depth=' + str(i) + ': ' + str(score))\n",
    "    if score > best_score:\n",
    "        best_score = score\n",
    "        best_depth = i\n",
    "print('\\nBest tree: depth=' + str(best_depth) + '   accuracy=' + str(best_score))\n",
    "desition_tree('entropy', best_depth)"
   ]
  },
  {
   "cell_type": "code",
   "execution_count": 98,
   "metadata": {},
   "outputs": [
    {
     "name": "stdout",
     "output_type": "stream",
     "text": [
      "Accuracy for depth=1: 0.7832167832167832\n",
      "Accuracy for depth=2: 0.8321678321678322\n",
      "Accuracy for depth=3: 0.8531468531468531\n",
      "Accuracy for depth=4: 0.8041958041958042\n",
      "Accuracy for depth=5: 0.8321678321678322\n",
      "Accuracy for depth=6: 0.8251748251748252\n",
      "Accuracy for depth=7: 0.8111888111888111\n",
      "Accuracy for depth=8: 0.8041958041958042\n",
      "Accuracy for depth=9: 0.7902097902097902\n",
      "Accuracy for depth=10: 0.7902097902097902\n",
      "\n",
      "Best tree: depth=3   accuracy=0.8531468531468531\n"
     ]
    },
    {
     "data": {
      "text/plain": [
       "0.8531468531468531"
      ]
     },
     "execution_count": 98,
     "metadata": {},
     "output_type": "execute_result"
    },
    {
     "data": {
      "image/png": "[encoded data removed]",
      "text/plain": [
       "<Figure size 432x288 with 1 Axes>"
      ]
     },
     "metadata": {
      "needs_background": "light"
     },
     "output_type": "display_data"
    }
   ],
   "source": [
    "best_score = 0\n",
    "best_depth = 0\n",
    "for i in range(1, 11):\n",
    "    score = desition_tree('entropy', i)\n",
    "    print('Accuracy for depth=' + str(i) + ': ' + str(score))\n",
    "    if score > best_score:\n",
    "        best_score = score\n",
    "        best_depth = i\n",
    "print('\\nBest tree: depth=' + str(best_depth) + '   accuracy=' + str(best_score))\n",
    "desition_tree('gini', best_depth)"
   ]
  }
 ],
 "metadata": {
  "kernelspec": {
   "display_name": "Python 3",
   "language": "python",
   "name": "python3"
  },
  "language_info": {
   "codemirror_mode": {
    "name": "ipython",
    "version": 3
   },
   "file_extension": ".py",
   "mimetype": "text/x-python",
   "name": "python",
   "nbconvert_exporter": "python",
   "pygments_lexer": "ipython3",
   "version": "3.7.4"
  }
 },
 "nbformat": 4,
 "nbformat_minor": 4
}
