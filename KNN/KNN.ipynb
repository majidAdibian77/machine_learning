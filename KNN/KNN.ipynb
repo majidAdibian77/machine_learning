{
 "cells": [
  {
   "cell_type": "code",
   "execution_count": 1,
   "metadata": {},
   "outputs": [
    {
     "name": "stderr",
     "output_type": "stream",
     "text": [
      "c:\\users\\majid\\appdata\\local\\programs\\python\\python37\\python.exe: No module named pip3\n",
      "c:\\users\\majid\\appdata\\local\\programs\\python\\python37\\python.exe: No module named pip3\n"
     ]
    }
   ],
   "source": [
    "import sys\n",
    "!{sys.executable} -m pip3 install pandas\n",
    "!{sys.executable} -m pip3 install numpy"
   ]
  },
  {
   "cell_type": "code",
   "execution_count": 2,
   "metadata": {},
   "outputs": [],
   "source": [
    "import pandas\n",
    "import numpy as np"
   ]
  },
  {
   "cell_type": "markdown",
   "metadata": {},
   "source": [
    "###### Read and show data"
   ]
  },
  {
   "cell_type": "code",
   "execution_count": 78,
   "metadata": {},
   "outputs": [
    {
     "name": "stdout",
     "output_type": "stream",
     "text": [
      "(150, 5)\n"
     ]
    },
    {
     "data": {
      "text/html": [
       "<div>\n",
       "<style scoped>\n",
       "    .dataframe tbody tr th:only-of-type {\n",
       "        vertical-align: middle;\n",
       "    }\n",
       "\n",
       "    .dataframe tbody tr th {\n",
       "        vertical-align: top;\n",
       "    }\n",
       "\n",
       "    .dataframe thead th {\n",
       "        text-align: right;\n",
       "    }\n",
       "</style>\n",
       "<table border=\"1\" class=\"dataframe\">\n",
       "  <thead>\n",
       "    <tr style=\"text-align: right;\">\n",
       "      <th></th>\n",
       "      <th>sepal_length</th>\n",
       "      <th>sepal_width</th>\n",
       "      <th>petal_length</th>\n",
       "      <th>petal_width</th>\n",
       "      <th>class</th>\n",
       "    </tr>\n",
       "  </thead>\n",
       "  <tbody>\n",
       "    <tr>\n",
       "      <th>0</th>\n",
       "      <td>5.1</td>\n",
       "      <td>3.5</td>\n",
       "      <td>1.4</td>\n",
       "      <td>0.2</td>\n",
       "      <td>Iris-setosa</td>\n",
       "    </tr>\n",
       "    <tr>\n",
       "      <th>1</th>\n",
       "      <td>4.9</td>\n",
       "      <td>3.0</td>\n",
       "      <td>1.4</td>\n",
       "      <td>0.2</td>\n",
       "      <td>Iris-setosa</td>\n",
       "    </tr>\n",
       "    <tr>\n",
       "      <th>2</th>\n",
       "      <td>4.7</td>\n",
       "      <td>3.2</td>\n",
       "      <td>1.3</td>\n",
       "      <td>0.2</td>\n",
       "      <td>Iris-setosa</td>\n",
       "    </tr>\n",
       "    <tr>\n",
       "      <th>3</th>\n",
       "      <td>4.6</td>\n",
       "      <td>3.1</td>\n",
       "      <td>1.5</td>\n",
       "      <td>0.2</td>\n",
       "      <td>Iris-setosa</td>\n",
       "    </tr>\n",
       "    <tr>\n",
       "      <th>4</th>\n",
       "      <td>5.0</td>\n",
       "      <td>3.6</td>\n",
       "      <td>1.4</td>\n",
       "      <td>0.2</td>\n",
       "      <td>Iris-setosa</td>\n",
       "    </tr>\n",
       "  </tbody>\n",
       "</table>\n",
       "</div>"
      ],
      "text/plain": [
       "   sepal_length  sepal_width  petal_length  petal_width        class\n",
       "0           5.1          3.5           1.4          0.2  Iris-setosa\n",
       "1           4.9          3.0           1.4          0.2  Iris-setosa\n",
       "2           4.7          3.2           1.3          0.2  Iris-setosa\n",
       "3           4.6          3.1           1.5          0.2  Iris-setosa\n",
       "4           5.0          3.6           1.4          0.2  Iris-setosa"
      ]
     },
     "execution_count": 78,
     "metadata": {},
     "output_type": "execute_result"
    }
   ],
   "source": [
    "iris_data = pandas.read_csv('iris.data', header=None, names=['sepal_length', 'sepal_width', 'petal_length', 'petal_width', 'class'])\n",
    "print(iris_data.shape)\n",
    "iris_data.head()"
   ]
  },
  {
   "cell_type": "markdown",
   "metadata": {},
   "source": [
    "###### KNN: Run KNN algorithm to predict class of test data"
   ]
  },
  {
   "cell_type": "code",
   "execution_count": 79,
   "metadata": {},
   "outputs": [],
   "source": [
    "def KNN(data, test, k):\n",
    "    \"\"\" This function gets data and test sample and k parameter then predicts class of test according to K nearest data \"\"\"\n",
    "    data_without_label = data.drop('class', axis=1)\n",
    "    distances = np.sqrt(np.square(data_without_label - test).sum(axis=1))  # distance of test to all data\n",
    "    k_smallest_dist_index = np.argpartition(distances, k)[:k]  # select data index of k smallest distance\n",
    "    nearest_samples = data.iloc[k_smallest_dist_index]\n",
    "    all_classes = data['class'].unique()\n",
    "    weighted_voting = {c:0 for c in all_classes}\n",
    "    for index, sample in nearest_samples.iterrows():\n",
    "        weighted_voting[sample['class']] += (1/distances[index])  # use inverse of distance as weightes in voting\n",
    "    predicted_label = max(weighted_voting, key=lambda x:weighted_voting[x])\n",
    "    return predicted_label"
   ]
  },
  {
   "cell_type": "markdown",
   "metadata": {},
   "source": [
    "###### Use KNN algorithm to predict class of all test data and evaluate results"
   ]
  },
  {
   "cell_type": "code",
   "execution_count": 80,
   "metadata": {},
   "outputs": [],
   "source": [
    "def evaluate_test_data(train_data, test_data, k, confusion_matrix):\n",
    "    \"\"\" This function gets training and testing data and K parameter \n",
    "        then use KNN algorithm to predict class of any sample in test data and evaluate results\n",
    "    \"\"\"\n",
    "    truly_predicted = 0\n",
    "    all_predicted = test_data.shape[0]\n",
    "    for index, row in test_data.iterrows():\n",
    "        real_label = row.pop('class')\n",
    "        predicted_label = KNN(train_data, row, k)\n",
    "        confusion_matrix[real_label][predicted_label] += 1\n",
    "        if real_label == predicted_label:\n",
    "            truly_predicted += 1\n",
    "    accuracy = truly_predicted/all_predicted\n",
    "    return accuracy, confusion_matrix"
   ]
  },
  {
   "cell_type": "markdown",
   "metadata": {},
   "source": [
    "###### Use 10-fold cross velidation to evaluate results"
   ]
  },
  {
   "cell_type": "code",
   "execution_count": 81,
   "metadata": {},
   "outputs": [],
   "source": [
    "def k_fold_cross_validation(data, k_fold, k_nearest):\n",
    "    \"\"\" This functions gets all data and uses 10-fold cross validation to evaluate KNN results \"\"\"\n",
    "    number_of_data = data.shape[0]\n",
    "    fold_size = int(number_of_data/k_fold)\n",
    "    all_accuracy = []\n",
    "    confusion_matrix = {real_class: {predicted_class:0 for predicted_class in iris_data['class'].unique()} \n",
    "                        for real_class in iris_data['class'].unique()}\n",
    "    for i in range(k_fold):\n",
    "        test_data = data[i*fold_size:(i+1)*fold_size]\n",
    "        train_data = data.drop(test_data.index)\n",
    "        accuracy, confusion_matrix = evaluate_test_data(train_data, test_data, k_nearest, confusion_matrix)\n",
    "        all_accuracy.append(accuracy)\n",
    "    accuracy_mean = sum(all_accuracy)/len(all_accuracy)\n",
    "    print('\\n##### k-nearest=' + str(k_nearest) + ' #####')\n",
    "    print('accuracy: ' + str(accuracy_mean))\n",
    "    print('confusion_matrix: \\n' + str(confusion_matrix))\n",
    "    return accuracy_mean, confusion_matrix"
   ]
  },
  {
   "cell_type": "markdown",
   "metadata": {},
   "source": [
    "###### Test different K for KNN algorithm to find best one"
   ]
  },
  {
   "cell_type": "code",
   "execution_count": 82,
   "metadata": {},
   "outputs": [
    {
     "name": "stderr",
     "output_type": "stream",
     "text": [
      "c:\\users\\majid\\appdata\\local\\programs\\python\\python37\\lib\\site-packages\\ipykernel_launcher.py:10: RuntimeWarning: divide by zero encountered in double_scalars\n",
      "  # Remove the CWD from sys.path while we load stuff.\n"
     ]
    },
    {
     "name": "stdout",
     "output_type": "stream",
     "text": [
      "\n",
      "##### k-nearest=1 #####\n",
      "accuracy: 0.9600000000000002\n",
      "confusion_matrix: \n",
      "{'Iris-setosa': {'Iris-setosa': 50, 'Iris-versicolor': 0, 'Iris-virginica': 0}, 'Iris-versicolor': {'Iris-setosa': 0, 'Iris-versicolor': 47, 'Iris-virginica': 3}, 'Iris-virginica': {'Iris-setosa': 0, 'Iris-versicolor': 3, 'Iris-virginica': 47}}\n",
      "\n",
      "##### k-nearest=2 #####\n",
      "accuracy: 0.9600000000000002\n",
      "confusion_matrix: \n",
      "{'Iris-setosa': {'Iris-setosa': 50, 'Iris-versicolor': 0, 'Iris-virginica': 0}, 'Iris-versicolor': {'Iris-setosa': 0, 'Iris-versicolor': 47, 'Iris-virginica': 3}, 'Iris-virginica': {'Iris-setosa': 0, 'Iris-versicolor': 3, 'Iris-virginica': 47}}\n",
      "\n",
      "##### k-nearest=3 #####\n",
      "accuracy: 0.9466666666666669\n",
      "confusion_matrix: \n",
      "{'Iris-setosa': {'Iris-setosa': 50, 'Iris-versicolor': 0, 'Iris-virginica': 0}, 'Iris-versicolor': {'Iris-setosa': 0, 'Iris-versicolor': 46, 'Iris-virginica': 4}, 'Iris-virginica': {'Iris-setosa': 0, 'Iris-versicolor': 4, 'Iris-virginica': 46}}\n",
      "\n",
      "##### k-nearest=4 #####\n",
      "accuracy: 0.9533333333333335\n",
      "confusion_matrix: \n",
      "{'Iris-setosa': {'Iris-setosa': 50, 'Iris-versicolor': 0, 'Iris-virginica': 0}, 'Iris-versicolor': {'Iris-setosa': 0, 'Iris-versicolor': 46, 'Iris-virginica': 4}, 'Iris-virginica': {'Iris-setosa': 0, 'Iris-versicolor': 3, 'Iris-virginica': 47}}\n",
      "\n",
      "##### k-nearest=5 #####\n",
      "accuracy: 0.9466666666666669\n",
      "confusion_matrix: \n",
      "{'Iris-setosa': {'Iris-setosa': 50, 'Iris-versicolor': 0, 'Iris-virginica': 0}, 'Iris-versicolor': {'Iris-setosa': 0, 'Iris-versicolor': 46, 'Iris-virginica': 4}, 'Iris-virginica': {'Iris-setosa': 0, 'Iris-versicolor': 4, 'Iris-virginica': 46}}\n",
      "\n",
      "##### k-nearest=6 #####\n",
      "accuracy: 0.9533333333333335\n",
      "confusion_matrix: \n",
      "{'Iris-setosa': {'Iris-setosa': 50, 'Iris-versicolor': 0, 'Iris-virginica': 0}, 'Iris-versicolor': {'Iris-setosa': 0, 'Iris-versicolor': 46, 'Iris-virginica': 4}, 'Iris-virginica': {'Iris-setosa': 0, 'Iris-versicolor': 3, 'Iris-virginica': 47}}\n",
      "\n",
      "##### k-nearest=7 #####\n",
      "accuracy: 0.9533333333333335\n",
      "confusion_matrix: \n",
      "{'Iris-setosa': {'Iris-setosa': 50, 'Iris-versicolor': 0, 'Iris-virginica': 0}, 'Iris-versicolor': {'Iris-setosa': 0, 'Iris-versicolor': 46, 'Iris-virginica': 4}, 'Iris-virginica': {'Iris-setosa': 0, 'Iris-versicolor': 3, 'Iris-virginica': 47}}\n",
      "\n",
      "##### k-nearest=8 #####\n",
      "accuracy: 0.9466666666666669\n",
      "confusion_matrix: \n",
      "{'Iris-setosa': {'Iris-setosa': 50, 'Iris-versicolor': 0, 'Iris-virginica': 0}, 'Iris-versicolor': {'Iris-setosa': 0, 'Iris-versicolor': 46, 'Iris-virginica': 4}, 'Iris-virginica': {'Iris-setosa': 0, 'Iris-versicolor': 4, 'Iris-virginica': 46}}\n",
      "\n",
      "##### k-nearest=9 #####\n",
      "accuracy: 0.9400000000000002\n",
      "confusion_matrix: \n",
      "{'Iris-setosa': {'Iris-setosa': 50, 'Iris-versicolor': 0, 'Iris-virginica': 0}, 'Iris-versicolor': {'Iris-setosa': 0, 'Iris-versicolor': 46, 'Iris-virginica': 4}, 'Iris-virginica': {'Iris-setosa': 0, 'Iris-versicolor': 5, 'Iris-virginica': 45}}\n",
      "\n",
      "##### k-nearest=10 #####\n",
      "accuracy: 0.9466666666666669\n",
      "confusion_matrix: \n",
      "{'Iris-setosa': {'Iris-setosa': 50, 'Iris-versicolor': 0, 'Iris-virginica': 0}, 'Iris-versicolor': {'Iris-setosa': 0, 'Iris-versicolor': 46, 'Iris-virginica': 4}, 'Iris-virginica': {'Iris-setosa': 0, 'Iris-versicolor': 4, 'Iris-virginica': 46}}\n",
      "\n",
      "##### k-nearest=11 #####\n",
      "accuracy: 0.9533333333333335\n",
      "confusion_matrix: \n",
      "{'Iris-setosa': {'Iris-setosa': 50, 'Iris-versicolor': 0, 'Iris-virginica': 0}, 'Iris-versicolor': {'Iris-setosa': 0, 'Iris-versicolor': 46, 'Iris-virginica': 4}, 'Iris-virginica': {'Iris-setosa': 0, 'Iris-versicolor': 3, 'Iris-virginica': 47}}\n",
      "\n",
      "##### k-nearest=12 #####\n",
      "accuracy: 0.9466666666666669\n",
      "confusion_matrix: \n",
      "{'Iris-setosa': {'Iris-setosa': 50, 'Iris-versicolor': 0, 'Iris-virginica': 0}, 'Iris-versicolor': {'Iris-setosa': 0, 'Iris-versicolor': 46, 'Iris-virginica': 4}, 'Iris-virginica': {'Iris-setosa': 0, 'Iris-versicolor': 4, 'Iris-virginica': 46}}\n",
      "\n",
      "##### k-nearest=13 #####\n",
      "accuracy: 0.9533333333333335\n",
      "confusion_matrix: \n",
      "{'Iris-setosa': {'Iris-setosa': 50, 'Iris-versicolor': 0, 'Iris-virginica': 0}, 'Iris-versicolor': {'Iris-setosa': 0, 'Iris-versicolor': 46, 'Iris-virginica': 4}, 'Iris-virginica': {'Iris-setosa': 0, 'Iris-versicolor': 3, 'Iris-virginica': 47}}\n",
      "\n",
      "##### k-nearest=14 #####\n",
      "accuracy: 0.9400000000000002\n",
      "confusion_matrix: \n",
      "{'Iris-setosa': {'Iris-setosa': 50, 'Iris-versicolor': 0, 'Iris-virginica': 0}, 'Iris-versicolor': {'Iris-setosa': 0, 'Iris-versicolor': 46, 'Iris-virginica': 4}, 'Iris-virginica': {'Iris-setosa': 0, 'Iris-versicolor': 5, 'Iris-virginica': 45}}\n",
      "\n",
      "##### k-nearest=15 #####\n",
      "accuracy: 0.9400000000000002\n",
      "confusion_matrix: \n",
      "{'Iris-setosa': {'Iris-setosa': 50, 'Iris-versicolor': 0, 'Iris-virginica': 0}, 'Iris-versicolor': {'Iris-setosa': 0, 'Iris-versicolor': 46, 'Iris-virginica': 4}, 'Iris-virginica': {'Iris-setosa': 0, 'Iris-versicolor': 5, 'Iris-virginica': 45}}\n",
      "\n",
      "##### k-nearest=16 #####\n",
      "accuracy: 0.9400000000000002\n",
      "confusion_matrix: \n",
      "{'Iris-setosa': {'Iris-setosa': 50, 'Iris-versicolor': 0, 'Iris-virginica': 0}, 'Iris-versicolor': {'Iris-setosa': 0, 'Iris-versicolor': 46, 'Iris-virginica': 4}, 'Iris-virginica': {'Iris-setosa': 0, 'Iris-versicolor': 5, 'Iris-virginica': 45}}\n",
      "\n",
      "##### k-nearest=17 #####\n",
      "accuracy: 0.9533333333333335\n",
      "confusion_matrix: \n",
      "{'Iris-setosa': {'Iris-setosa': 50, 'Iris-versicolor': 0, 'Iris-virginica': 0}, 'Iris-versicolor': {'Iris-setosa': 0, 'Iris-versicolor': 46, 'Iris-virginica': 4}, 'Iris-virginica': {'Iris-setosa': 0, 'Iris-versicolor': 3, 'Iris-virginica': 47}}\n",
      "\n",
      "##### k-nearest=18 #####\n",
      "accuracy: 0.9333333333333336\n",
      "confusion_matrix: \n",
      "{'Iris-setosa': {'Iris-setosa': 50, 'Iris-versicolor': 0, 'Iris-virginica': 0}, 'Iris-versicolor': {'Iris-setosa': 0, 'Iris-versicolor': 46, 'Iris-virginica': 4}, 'Iris-virginica': {'Iris-setosa': 0, 'Iris-versicolor': 6, 'Iris-virginica': 44}}\n",
      "\n",
      "##### k-nearest=19 #####\n",
      "accuracy: 0.9400000000000002\n",
      "confusion_matrix: \n",
      "{'Iris-setosa': {'Iris-setosa': 50, 'Iris-versicolor': 0, 'Iris-virginica': 0}, 'Iris-versicolor': {'Iris-setosa': 0, 'Iris-versicolor': 46, 'Iris-virginica': 4}, 'Iris-virginica': {'Iris-setosa': 0, 'Iris-versicolor': 5, 'Iris-virginica': 45}}\n"
     ]
    }
   ],
   "source": [
    "all_accuracy = []\n",
    "confusion_matrixes = []\n",
    "for k_nearest in range(1, 20):\n",
    "    accuracy, confusion_matrix = k_fold_cross_validation(iris_data, 10, k_nearest)\n",
    "    all_accuracy.append(accuracy)\n",
    "    confusion_matrixes.append(confusion_matrix)"
   ]
  },
  {
   "cell_type": "markdown",
   "metadata": {},
   "source": [
    "###### Show result of KNN with best k"
   ]
  },
  {
   "cell_type": "code",
   "execution_count": 84,
   "metadata": {},
   "outputs": [
    {
     "name": "stdout",
     "output_type": "stream",
     "text": [
      "best K is 1\n",
      "accuracy: 0.9600000000000002\n",
      "confusion matrix: (rows are real class and columns are predicted)\n",
      "\tIris-setosa: {'Iris-setosa': 50, 'Iris-versicolor': 0, 'Iris-virginica': 0}\n",
      "\tIris-versicolor: {'Iris-setosa': 0, 'Iris-versicolor': 47, 'Iris-virginica': 3}\n",
      "\tIris-virginica: {'Iris-setosa': 0, 'Iris-versicolor': 3, 'Iris-virginica': 47}\n"
     ]
    }
   ],
   "source": [
    "best_accuracy = max(all_accuracy)\n",
    "best_k = all_accuracy.index(best_accuracy)+1\n",
    "best_confusion_matrix = confusion_matrixes[best_k-1]\n",
    "print(\"best K is \" + str(best_k))\n",
    "print(\"accuracy: \" + str(best_accuracy))\n",
    "print(\"confusion matrix: (rows are real class and columns are predicted)\")\n",
    "for row in best_confusion_matrix.keys():\n",
    "    print('\\t' + row + ': ' + str(best_confusion_matrix[row]))"
   ]
  },
  {
   "cell_type": "code",
   "execution_count": null,
   "metadata": {},
   "outputs": [],
   "source": []
  }
 ],
 "metadata": {
  "kernelspec": {
   "display_name": "Python 3",
   "language": "python",
   "name": "python3"
  },
  "language_info": {
   "codemirror_mode": {
    "name": "ipython",
    "version": 3
   },
   "file_extension": ".py",
   "mimetype": "text/x-python",
   "name": "python",
   "nbconvert_exporter": "python",
   "pygments_lexer": "ipython3",
   "version": "3.7.4"
  }
 },
 "nbformat": 4,
 "nbformat_minor": 4
}
